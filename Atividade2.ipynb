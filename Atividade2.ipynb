{
 "cells": [
  {
   "cell_type": "code",
   "execution_count": 8,
   "metadata": {},
   "outputs": [
    {
     "name": "stdout",
     "output_type": "stream",
     "text": [
      "Requirement already satisfied: Pillow in /home/codespace/.local/lib/python3.12/site-packages (11.0.0)\n",
      "Note: you may need to restart the kernel to use updated packages.\n"
     ]
    }
   ],
   "source": [
    "pip install Pillow"
   ]
  },
  {
   "cell_type": "code",
   "execution_count": 9,
   "metadata": {},
   "outputs": [],
   "source": [
    "from PIL import Image, ImageFilter, ImageEnhance"
   ]
  },
  {
   "cell_type": "code",
   "execution_count": 10,
   "metadata": {},
   "outputs": [],
   "source": [
    "imagem = Image.open('pr.jpeg')"
   ]
  },
  {
   "cell_type": "code",
   "execution_count": 11,
   "metadata": {},
   "outputs": [],
   "source": [
    "def converter_escala_cinza(imagem):\n",
    "    img_media = imagem.convert('L')\n",
    "    \n",
    "    img_luminosidade = imagem.convert('L', matrix=[\n",
    "        0.299, 0.587, 0.114, 0,\n",
    "        0.299, 0.587, 0.114, 0,\n",
    "        0.299, 0.587, 0.114, 0\n",
    "    ])\n",
    "    \n",
    "    return img_luminosidade\n",
    "\n",
    "\n"
   ]
  },
  {
   "cell_type": "code",
   "execution_count": 12,
   "metadata": {},
   "outputs": [],
   "source": [
    "Image_nova = converter_escala_cinza(imagem)\n",
    "Image_nova.save('Demiurge_cinza.jpeg')"
   ]
  },
  {
   "cell_type": "code",
   "execution_count": 13,
   "metadata": {},
   "outputs": [],
   "source": [
    "def detectar_bordas(imagem):\n",
    "    img_cinza = imagem.convert('L')\n",
    "\n",
    "    bordas_sobel_h = img_cinza.filter(ImageFilter.Kernel((3, 3), \n",
    "    [-1, 0, 1, -2, 0, 2, -1, 0, 1]))\n",
    "\n",
    "    bordas_prewitt = img_cinza.filter(ImageFilter.CONTOUR)\n",
    "\n",
    "    bordas_laplace = img_cinza.filter(ImageFilter.Kernel((3, 3),\n",
    "            [0, 1, 0, 1, -4, 1, 0, 1, 0]))\n",
    "\n",
    "    return {\n",
    "            'sobel_h': bordas_sobel_h,\n",
    "            'prewitt': bordas_prewitt,\n",
    "            'laplace': bordas_laplace\n",
    "        }"
   ]
  },
  {
   "cell_type": "code",
   "execution_count": 20,
   "metadata": {},
   "outputs": [],
   "source": [
    "Image_nova1 = detectar_bordas(Image_nova)\n",
    "Image_nova0 = Image_nova1['sobel_h']\n",
    "Image_nova0.save('Demiurge_1.jpeg')"
   ]
  },
  {
   "cell_type": "code",
   "execution_count": 23,
   "metadata": {},
   "outputs": [],
   "source": [
    "def pipeline_processamento(imagem, limiar=128):\n",
    "    img_cinza = imagem.convert('L')\n",
    "    img_equalizada = ImageOps.equalize(img_cinza)\n",
    "    img_bordas = img_equalizada.filter(ImageFilter.FIND_EDGES)\n",
    "    img_final = img_bordas.point(lambda x: 255 if x > limiar else 0)\n",
    "    return img_final"
   ]
  },
  {
   "cell_type": "code",
   "execution_count": 24,
   "metadata": {},
   "outputs": [
    {
     "ename": "NameError",
     "evalue": "name 'ImageOps' is not defined",
     "output_type": "error",
     "traceback": [
      "\u001b[0;31m---------------------------------------------------------------------------\u001b[0m",
      "\u001b[0;31mNameError\u001b[0m                                 Traceback (most recent call last)",
      "Cell \u001b[0;32mIn[24], line 1\u001b[0m\n\u001b[0;32m----> 1\u001b[0m Image_nova2 \u001b[38;5;241m=\u001b[39m \u001b[43mpipeline_processamento\u001b[49m\u001b[43m(\u001b[49m\u001b[43mimagem\u001b[49m\u001b[43m)\u001b[49m\n\u001b[1;32m      2\u001b[0m Image_nova2\u001b[38;5;241m.\u001b[39msave(\u001b[38;5;124m'\u001b[39m\u001b[38;5;124mDemiurge_cinza1.jpeg\u001b[39m\u001b[38;5;124m'\u001b[39m)\n",
      "Cell \u001b[0;32mIn[23], line 3\u001b[0m, in \u001b[0;36mpipeline_processamento\u001b[0;34m(imagem, limiar)\u001b[0m\n\u001b[1;32m      1\u001b[0m \u001b[38;5;28;01mdef\u001b[39;00m \u001b[38;5;21mpipeline_processamento\u001b[39m(imagem, limiar\u001b[38;5;241m=\u001b[39m\u001b[38;5;241m128\u001b[39m):\n\u001b[1;32m      2\u001b[0m     img_cinza \u001b[38;5;241m=\u001b[39m imagem\u001b[38;5;241m.\u001b[39mconvert(\u001b[38;5;124m'\u001b[39m\u001b[38;5;124mL\u001b[39m\u001b[38;5;124m'\u001b[39m)\n\u001b[0;32m----> 3\u001b[0m     img_equalizada \u001b[38;5;241m=\u001b[39m \u001b[43mImageOps\u001b[49m\u001b[38;5;241m.\u001b[39mequalize(img_cinza)\n\u001b[1;32m      4\u001b[0m     img_bordas \u001b[38;5;241m=\u001b[39m img_equalizada\u001b[38;5;241m.\u001b[39mfilter(ImageFilter\u001b[38;5;241m.\u001b[39mFIND_EDGES)\n\u001b[1;32m      5\u001b[0m     img_final \u001b[38;5;241m=\u001b[39m img_bordas\u001b[38;5;241m.\u001b[39mpoint(\u001b[38;5;28;01mlambda\u001b[39;00m x: \u001b[38;5;241m255\u001b[39m \u001b[38;5;28;01mif\u001b[39;00m x \u001b[38;5;241m>\u001b[39m limiar \u001b[38;5;28;01melse\u001b[39;00m \u001b[38;5;241m0\u001b[39m)\n",
      "\u001b[0;31mNameError\u001b[0m: name 'ImageOps' is not defined"
     ]
    }
   ],
   "source": [
    "Image_nova2 = pipeline_processamento(imagem)\n",
    "Image_nova2.save('Demiurge_cinza1.jpeg')"
   ]
  }
 ],
 "metadata": {
  "kernelspec": {
   "display_name": "Python 3",
   "language": "python",
   "name": "python3"
  },
  "language_info": {
   "codemirror_mode": {
    "name": "ipython",
    "version": 3
   },
   "file_extension": ".py",
   "mimetype": "text/x-python",
   "name": "python",
   "nbconvert_exporter": "python",
   "pygments_lexer": "ipython3",
   "version": "3.12.1"
  }
 },
 "nbformat": 4,
 "nbformat_minor": 2
}
